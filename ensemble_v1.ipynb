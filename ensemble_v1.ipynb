{
 "cells": [
  {
   "cell_type": "code",
   "execution_count": 19,
   "id": "1126b848-2fad-4ae2-9443-8e4c4441dbc1",
   "metadata": {},
   "outputs": [
    {
     "name": "stdout",
     "output_type": "stream",
     "text": [
      "The autoreload extension is already loaded. To reload it, use:\n",
      "  %reload_ext autoreload\n"
     ]
    }
   ],
   "source": [
    "%load_ext autoreload\n",
    "%autoreload 2"
   ]
  },
  {
   "cell_type": "code",
   "execution_count": 20,
   "id": "a73b76f9-632e-450c-96b7-661c1e1fe3b0",
   "metadata": {},
   "outputs": [],
   "source": [
    "import sys, os,git\n",
    "from pathlib import Path\n",
    "try:\n",
    "    import yaml\n",
    "    import f90nml  # from https://f90nml.readthedocs.io/en/latest/\n",
    "except ImportError:  # BUG: don't get this exception if payu module loaded, even if on python 2.6.6\n",
    "    print('\\nFatal error: modules not available.')\n",
    "    print('On NCI, do the following and try again:')\n",
    "    print('   module use /g/data/hh5/public/modules; module load conda/analysis3\\n')\n",
    "    raise"
   ]
  },
  {
   "cell_type": "code",
   "execution_count": 21,
   "id": "98a0560e-fc9d-45d4-ac7b-f6642860373c",
   "metadata": {},
   "outputs": [],
   "source": [
    "# ======================================================\n",
    "# from https://gist.github.com/paulkernstock/6df1c7ad37fd71b1da3cb05e70b9f522\n",
    "from yaml.representer import SafeRepresenter\n",
    "\n",
    "\n",
    "class LiteralString(str):\n",
    "    pass\n",
    "\n",
    "\n",
    "def change_style(style, representer):\n",
    "    def new_representer(dumper, data):\n",
    "        scalar = representer(dumper, data)\n",
    "        scalar.style = style\n",
    "        return scalar\n",
    "    return new_representer\n",
    "\n",
    "represent_literal_str = change_style('|', SafeRepresenter.represent_str)\n",
    "yaml.add_representer(LiteralString, represent_literal_str)\n",
    "# ======================================================"
   ]
  },
  {
   "cell_type": "code",
   "execution_count": 22,
   "id": "8406a75d-3a73-4fb9-a9de-5268d0d3ef58",
   "metadata": {},
   "outputs": [],
   "source": [
    "dir_ensemble = '/g/data/tm70/ml0072/COMMON/ensemble'\n",
    "sys.path.append(dir_ensemble)\n",
    "\n",
    "dir_utils = '/g/data/tm70/ml0072/COMMON/om3-utils/om3utils'\n",
    "sys.path.append(dir_utils)"
   ]
  },
  {
   "cell_type": "code",
   "execution_count": 23,
   "id": "e4422916-42bc-4e82-8de9-d4ad04843833",
   "metadata": {},
   "outputs": [
    {
     "data": {
      "text/plain": [
       "{'template': 'test/1deg_jra55_iaf',\n",
       " 'startfrom': 'rest',\n",
       " 'nruns': 0,\n",
       " 'namelists': {'ice/cice_in.nml': {'shortwave_nml': {'albicei': [0.3,\n",
       "     0.44,\n",
       "     0.5],\n",
       "    'albicev': []},\n",
       "   'dynamics_nml': {'turning_angle': [-90, 0, 90], 'dragio': []}},\n",
       "  'ocean/input.nml': {'auscom_ice_nml': {'aice_cutoff': []}}}}"
      ]
     },
     "execution_count": 23,
     "metadata": {},
     "output_type": "execute_result"
    }
   ],
   "source": [
    "yaml_text = 'ensemble.yaml'\n",
    "yamlfile = Path(dir_ensemble,yaml_text)\n",
    "indata = yaml.load(open(yamlfile, 'r'), Loader=yaml.SafeLoader)\n",
    "indata"
   ]
  },
  {
   "cell_type": "code",
   "execution_count": 28,
   "id": "2daadf65-b944-4667-be6e-6000570e6855",
   "metadata": {},
   "outputs": [
    {
     "name": "stdout",
     "output_type": "stream",
     "text": [
      "template: test/1deg_jra55_iaf\n",
      "templatepath: /g/data/tm70/ml0072/COMMON/ensemble/test/1deg_jra55_iaf\n"
     ]
    }
   ],
   "source": [
    "template = indata['template']\n",
    "print(f'template: {template}')\n",
    "templatepath = Path(dir_ensemble,template)\n",
    "print(f'templatepath: {templatepath}')\n",
    "# templaterepo = git.Repo(templatepath)\n",
    "# print(templaterepo)\n",
    "# print(f'current branch: {templaterepo.active_branch.name}')"
   ]
  }
 ],
 "metadata": {
  "kernelspec": {
   "display_name": "Python [conda env:analysis3-unstable]",
   "language": "python",
   "name": "conda-env-analysis3-unstable-py"
  },
  "language_info": {
   "codemirror_mode": {
    "name": "ipython",
    "version": 3
   },
   "file_extension": ".py",
   "mimetype": "text/x-python",
   "name": "python",
   "nbconvert_exporter": "python",
   "pygments_lexer": "ipython3",
   "version": "3.10.14"
  }
 },
 "nbformat": 4,
 "nbformat_minor": 5
}
