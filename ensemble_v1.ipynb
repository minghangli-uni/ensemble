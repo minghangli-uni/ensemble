{
 "cells": [
  {
   "cell_type": "code",
   "execution_count": 1,
   "id": "1126b848-2fad-4ae2-9443-8e4c4441dbc1",
   "metadata": {},
   "outputs": [],
   "source": [
    "%load_ext autoreload\n",
    "%autoreload 2"
   ]
  },
  {
   "cell_type": "code",
   "execution_count": 48,
   "id": "a73b76f9-632e-450c-96b7-661c1e1fe3b0",
   "metadata": {},
   "outputs": [
    {
     "name": "stdout",
     "output_type": "stream",
     "text": [
      "PATH: /g/data/vk83/apps/payu/1.1.3/bin:/g/data/vk83/apps/payu/1.1.3/bin:/g/data/vk83/apps/payu/1.1.3/bin:/g/data/hh5/public/apps/miniconda3/envs/analysis3-unstable/bin:/g/data/hh5/public/apps/miniconda3/condabin:/opt/pbs/default/bin:/opt/nci/bin:/opt/bin:/opt/Modules/v4.3.0/bin:/bin:/usr/bin:/usr/local/sbin:/usr/sbin:/local/pbs/bin\n",
      "<module 'payu' from '/g/data/vk83/apps/payu/1.1.3/lib/python3.9/site-packages/payu/__init__.py'>\n"
     ]
    }
   ],
   "source": [
    "import sys, os,git\n",
    "from pathlib import Path\n",
    "from pprint import pprint\n",
    "import subprocess\n",
    "\n",
    "\n",
    "os.environ['PATH'] = '/g/data/vk83/apps/payu/1.1.3/bin:' + os.environ['PATH']\n",
    "print(\"PATH:\", os.environ['PATH'])\n",
    "!python -c 'import payu; print(payu)'\n",
    "\n",
    "try:\n",
    "    import yaml\n",
    "    import f90nml  # from https://f90nml.readthedocs.io/en/latest/\n",
    "except ImportError:  # BUG: don't get this exception if payu module loaded, even if on python 2.6.6\n",
    "    print('\\nFatal error: modules not available.')\n",
    "    print('On NCI, do the following and try again:')\n",
    "    print('   module use /g/data/hh5/public/modules; module load conda/analysis3\\n')\n",
    "    raise"
   ]
  },
  {
   "cell_type": "code",
   "execution_count": 3,
   "id": "98a0560e-fc9d-45d4-ac7b-f6642860373c",
   "metadata": {},
   "outputs": [],
   "source": [
    "# ======================================================\n",
    "# from https://gist.github.com/paulkernstock/6df1c7ad37fd71b1da3cb05e70b9f522\n",
    "from yaml.representer import SafeRepresenter\n",
    "\n",
    "\n",
    "class LiteralString(str):\n",
    "    pass\n",
    "\n",
    "\n",
    "def change_style(style, representer):\n",
    "    def new_representer(dumper, data):\n",
    "        scalar = representer(dumper, data)\n",
    "        scalar.style = style\n",
    "        return scalar\n",
    "    return new_representer\n",
    "\n",
    "represent_literal_str = change_style('|', SafeRepresenter.represent_str)\n",
    "yaml.add_representer(LiteralString, represent_literal_str)\n",
    "# ======================================================"
   ]
  },
  {
   "cell_type": "code",
   "execution_count": 7,
   "id": "8406a75d-3a73-4fb9-a9de-5268d0d3ef58",
   "metadata": {},
   "outputs": [],
   "source": [
    "dir_ensemble = '/g/data/tm70/ml0072/COMMON/ensemble'\n",
    "sys.path.append(dir_ensemble)\n",
    "\n",
    "dir_utils = '/g/data/tm70/ml0072/COMMON/om3-utils/om3utils'\n",
    "sys.path.append(dir_utils)"
   ]
  },
  {
   "cell_type": "code",
   "execution_count": 8,
   "id": "e4422916-42bc-4e82-8de9-d4ad04843833",
   "metadata": {},
   "outputs": [
    {
     "data": {
      "text/plain": [
       "{'template': 'test/1deg_jra55_ryf',\n",
       " 'startfrom': 'rest',\n",
       " 'nruns': 0,\n",
       " 'namelists': {'ice/cice_in.nml': {'shortwave_nml': {'albicei': [0.3,\n",
       "     0.44,\n",
       "     0.5]}}}}"
      ]
     },
     "execution_count": 8,
     "metadata": {},
     "output_type": "execute_result"
    }
   ],
   "source": [
    "yaml_text = 'ensemble.yaml'\n",
    "yamlfile = Path(dir_ensemble,yaml_text)\n",
    "indata = yaml.load(open(yamlfile, 'r'), Loader=yaml.SafeLoader)\n",
    "indata"
   ]
  },
  {
   "cell_type": "code",
   "execution_count": 9,
   "id": "2daadf65-b944-4667-be6e-6000570e6855",
   "metadata": {},
   "outputs": [
    {
     "name": "stdout",
     "output_type": "stream",
     "text": [
      "template: test/1deg_jra55_ryf\n",
      "templatepath: /g/data/tm70/ml0072/COMMON/ensemble/test/1deg_jra55_ryf\n",
      "<git.repo.base.Repo '/g/data/tm70/ml0072/COMMON/ensemble/.git/modules/test/1deg_jra55_ryf'>\n",
      "current branch: master\n"
     ]
    }
   ],
   "source": [
    "template = indata['template']\n",
    "print(f'template: {template}')\n",
    "templatepath = Path(dir_ensemble,template)\n",
    "print(f'templatepath: {templatepath}')\n",
    "templaterepo = git.Repo(templatepath)\n",
    "print(templaterepo)\n",
    "print(f'current branch: {templaterepo.active_branch.name}')"
   ]
  },
  {
   "cell_type": "code",
   "execution_count": 10,
   "id": "46b4d34c-0215-4b17-bf7b-420657623f19",
   "metadata": {},
   "outputs": [
    {
     "data": {
      "text/plain": [
       "'rest'"
      ]
     },
     "execution_count": 10,
     "metadata": {},
     "output_type": "execute_result"
    }
   ],
   "source": [
    "startfrom = str(indata['startfrom']).strip().lower().zfill(3)\n",
    "startfrom"
   ]
  },
  {
   "cell_type": "code",
   "execution_count": 50,
   "id": "58b91bc4-863a-4aca-ac5b-1fbe42ed05ba",
   "metadata": {},
   "outputs": [
    {
     "ename": "SyntaxError",
     "evalue": "expected ':' (2747741210.py, line 4)",
     "output_type": "error",
     "traceback": [
      "\u001b[0;36m  Cell \u001b[0;32mIn[50], line 4\u001b[0;36m\u001b[0m\n\u001b[0;31m    def read_config_yaml(exp_path)\u001b[0m\n\u001b[0m                                  ^\u001b[0m\n\u001b[0;31mSyntaxError\u001b[0m\u001b[0;31m:\u001b[0m expected ':'\n"
     ]
    }
   ],
   "source": [
    "from ruamel.yaml import YAML\n",
    "from ruamel.yaml.comments import CommentedMap\n",
    "\n",
    "yaml = YAML()\n",
    "yaml.preserve_quotes = True\n",
    "\n",
    "def read_config_yaml(exp_path)\n",
    "    configpath = Path(exp_path,'config.yaml')\n",
    "    with open(configpath,'r') as f:\n",
    "        config = yaml.load(f)\n",
    "    return config\n",
    "\n",
    "def write_config_yaml(config)\n",
    "if isinstance(config, CommentedMap):\n",
    "    # Update specific parameters\n",
    "    config['jobname'] = exp_name\n",
    "    with open(configpath,'w') as f:\n",
    "        yaml.dump(config,f)\n",
    "                        "
   ]
  },
  {
   "cell_type": "code",
   "execution_count": 49,
   "id": "a4cfc57f-b284-4a4e-818e-00cf1356212b",
   "metadata": {},
   "outputs": [
    {
     "name": "stdout",
     "output_type": "stream",
     "text": [
      "namelists:('ice/cice_in.nml', {'shortwave_nml': {'albicei': [0.3, 0.44, 0.5]}})\n",
      "nmls: ('shortwave_nml', {'albicei': [0.3, 0.44, 0.5]})\n",
      "names: ('albicei', [0.3, 0.44, 0.5])\n",
      "value: 0.3\n",
      "/g/data/tm70/ml0072/COMMON/ensemble/test/1deg_jra55_ryf_albicei_0.3\n",
      "test/1deg_jra55_ryf_albicei_0.3\n",
      "1deg_jra55_ryf_albicei_0.3\n",
      "0.44\n",
      " -- creating new exp  test/1deg_jra55_ryf_albicei_0.3 \n",
      "\n",
      "clone template - payu clone! \n",
      "\n",
      "changed value: 0.3\n",
      "{'queue': 'normal', 'walltime': '3:00:00', 'jobname': '1deg_jra55_ryf', 'mem': '1000GB', 'name': 'common', 'model': 'access-om2', 'input': '/g/data/ik11/inputs/access-om2/input_20201102/common_1deg_jra55', 'submodels': [{'name': 'atmosphere', 'model': 'yatm', 'exe': '/g/data/ik11/inputs/access-om2/bin/yatm_d750b4b.exe', 'input': ['/g/data/ik11/inputs/access-om2/input_20201102/yatm_1deg', '/g/data/ik11/inputs/JRA-55/RYF/v1-4'], 'ncpus': 1}, {'name': 'ocean', 'model': 'mom', 'exe': '/g/data/ik11/inputs/access-om2/bin/fms_ACCESS-OM_730f0bf_libaccessom2_d750b4b.x', 'input': '/g/data/ik11/inputs/access-om2/input_20201102/mom_1deg', 'ncpus': 216}, {'name': 'ice', 'model': 'cice5', 'exe': '/g/data/ik11/inputs/access-om2/bin/cice_auscom_360x300_24p_edcfa6f_libaccessom2_d750b4b.exe', 'input': '/g/data/ik11/inputs/access-om2/input_20201102/cice_1deg', 'ncpus': 24}], 'collate': {'restart': True, 'walltime': '1:00:00', 'mem': '30GB', 'ncpus': 4, 'queue': 'normal', 'exe': '/g/data/ik11/inputs/access-om2/bin/mppnccombine'}, 'runlog': True, 'stacksize': 'unlimited', 'restart_freq': 1, 'mpirun': '--mca io ompio --mca io_ompio_num_aggregators 1', 'qsub_flags': '-W umask=027', 'env': {'UCX_LOG_LEVEL': 'error'}, 'platform': {'nodesize': 48}, 'userscripts': {'error': 'resub.sh', 'run': 'rm -f resubmit.count'}}\n",
      "value: 0.44\n",
      "/g/data/tm70/ml0072/COMMON/ensemble/test/1deg_jra55_ryf_albicei_0.44\n",
      "test/1deg_jra55_ryf_albicei_0.44\n",
      "1deg_jra55_ryf_albicei_0.44\n",
      "0.44\n",
      " -- not creating  test/1deg_jra55_ryf_albicei_0.44  - parameters are identical to the template  test/1deg_jra55_ryf \n",
      "\n",
      "value: 0.5\n",
      "/g/data/tm70/ml0072/COMMON/ensemble/test/1deg_jra55_ryf_albicei_0.5\n",
      "test/1deg_jra55_ryf_albicei_0.5\n",
      "1deg_jra55_ryf_albicei_0.5\n",
      "0.44\n",
      " -- creating new exp  test/1deg_jra55_ryf_albicei_0.5 \n",
      "\n",
      "clone template - payu clone! \n",
      "\n",
      "changed value: 0.5\n",
      "{'queue': 'normal', 'walltime': '3:00:00', 'jobname': '1deg_jra55_ryf', 'mem': '1000GB', 'name': 'common', 'model': 'access-om2', 'input': '/g/data/ik11/inputs/access-om2/input_20201102/common_1deg_jra55', 'submodels': [{'name': 'atmosphere', 'model': 'yatm', 'exe': '/g/data/ik11/inputs/access-om2/bin/yatm_d750b4b.exe', 'input': ['/g/data/ik11/inputs/access-om2/input_20201102/yatm_1deg', '/g/data/ik11/inputs/JRA-55/RYF/v1-4'], 'ncpus': 1}, {'name': 'ocean', 'model': 'mom', 'exe': '/g/data/ik11/inputs/access-om2/bin/fms_ACCESS-OM_730f0bf_libaccessom2_d750b4b.x', 'input': '/g/data/ik11/inputs/access-om2/input_20201102/mom_1deg', 'ncpus': 216}, {'name': 'ice', 'model': 'cice5', 'exe': '/g/data/ik11/inputs/access-om2/bin/cice_auscom_360x300_24p_edcfa6f_libaccessom2_d750b4b.exe', 'input': '/g/data/ik11/inputs/access-om2/input_20201102/cice_1deg', 'ncpus': 24}], 'collate': {'restart': True, 'walltime': '1:00:00', 'mem': '30GB', 'ncpus': 4, 'queue': 'normal', 'exe': '/g/data/ik11/inputs/access-om2/bin/mppnccombine'}, 'runlog': True, 'stacksize': 'unlimited', 'restart_freq': 1, 'mpirun': '--mca io ompio --mca io_ompio_num_aggregators 1', 'qsub_flags': '-W umask=027', 'env': {'UCX_LOG_LEVEL': 'error'}, 'platform': {'nodesize': 48}, 'userscripts': {'error': 'resub.sh', 'run': 'rm -f resubmit.count'}}\n"
     ]
    }
   ],
   "source": [
    "ensemble = []\n",
    "branch = 'master'\n",
    "branch_new = 'ctrl'\n",
    "\n",
    "\n",
    "\n",
    "\n",
    "for fname, nmls in indata['namelists'].items():\n",
    "    print(f'namelists:{fname,nmls}')\n",
    "    for group, names in nmls.items():\n",
    "        print(f\"nmls: {group,names}\")\n",
    "        for name,values in names.items():\n",
    "            print(f\"names: {name,values}\")\n",
    "            for v in values:\n",
    "                print(f'value: {v}')\n",
    "                exp_path = os.path.join(dir_ensemble,'_'.join([template,name,str(v)]))\n",
    "                print(exp_path)\n",
    "                rel_path = '_'.join([template,name,str(v)])\n",
    "                print(rel_path)\n",
    "                exp_name = os.path.basename(rel_path)\n",
    "                print(exp_name)\n",
    "\n",
    "                # if os.path.exists(exp_path):\n",
    "                #     ensemble.append(exp_path)\n",
    "                #     continue\n",
    "\n",
    "                # check if paramter change differs from the template\n",
    "                \n",
    "                parser = f90nml.Parser()\n",
    "                nml = parser.read(Path(templatepath,fname))\n",
    "                #print(nml)\n",
    "                print(nml[group][name])\n",
    "                if v == nml[group][name]:\n",
    "                    print(' -- not creating ', rel_path, ' - parameters are identical to the template ',template,'\\n')\n",
    "                    continue\n",
    "                else:\n",
    "                    print(' -- creating new exp ', rel_path,'\\n')\n",
    "\n",
    "                if os.path.exists(exp_path):\n",
    "                    print(' -- not creating ', rel_path, ' - already exists!','\\n')\n",
    "                    \n",
    "                    \n",
    "                else:\n",
    "                    print(f'clone template - payu clone!','\\n')\n",
    "                    # clone template payu clone\n",
    "                    # payu clone -B master -b ctrl test/1deg_jra55_ryf test/1deg_jra55_ryf_test\n",
    "                    command = f'payu clone -B {branch} -b {branch_new} {templatepath} {exp_path}'\n",
    "                    test = subprocess.run(command, shell=True, check=False, capture_output=True, text=True)\n",
    "                    \n",
    "                nml_tmp = parser.read(Path(exp_path,fname))\n",
    "                nml_tmp[group][name] = v\n",
    "                print(f'changed value: {nml_tmp[group][name]}')\n",
    "                with open(Path(exp_path,fname),'w') as nml_file:\n",
    "                    f90nml.write(nml_tmp,nml_file)\n",
    "                    \n",
    "                \n",
    "#ensemble"
   ]
  },
  {
   "cell_type": "code",
   "execution_count": 46,
   "id": "fe4b213f-7531-4ca3-b6ff-68436164948e",
   "metadata": {},
   "outputs": [
    {
     "data": {
      "text/plain": [
       "{'collate': {'exe': '/g/data/ik11/inputs/access-om2/bin/mppnccombine', 'mem': '30GB', 'ncpus': 4, 'queue': 'normal', 'restart': True, 'walltime': 3600}, 'env': {'UCX_LOG_LEVEL': 'error'}, 'input': '/g/data/ik11/inputs/access-om2/input_20201102/common_1deg_jra55', 'jobname': '1deg_jra55_ryf_albicei_0.5', 'mem': '1000GB', 'model': 'access-om2', 'mpirun': '--mca io ompio --mca io_ompio_num_aggregators 1', 'name': 'common', 'platform': {'nodesize': 48}, 'qsub_flags': '-W umask=027', 'queue': 'normal', 'restart_freq': 1, 'runlog': True, 'stacksize': 'unlimited', 'submodels': [{'exe': '/g/data/ik11/inputs/access-om2/bin/yatm_d750b4b.exe', 'input': ['/g/data/ik11/inputs/access-om2/input_20201102/yatm_1deg', '/g/data/ik11/inputs/JRA-55/RYF/v1-4'], 'model': 'yatm', 'name': 'atmosphere', 'ncpus': 1}, {'exe': '/g/data/ik11/inputs/access-om2/bin/fms_ACCESS-OM_730f0bf_libaccessom2_d750b4b.x', 'input': '/g/data/ik11/inputs/access-om2/input_20201102/mom_1deg', 'model': 'mom', 'name': 'ocean', 'ncpus': 216}, {'exe': '/g/data/ik11/inputs/access-om2/bin/cice_auscom_360x300_24p_edcfa6f_libaccessom2_d750b4b.exe', 'input': '/g/data/ik11/inputs/access-om2/input_20201102/cice_1deg', 'model': 'cice5', 'name': 'ice', 'ncpus': 24}], 'userscripts': {'error': 'resub.sh', 'run': 'rm -f resubmit.count'}, 'walltime': 10800}"
      ]
     },
     "execution_count": 46,
     "metadata": {},
     "output_type": "execute_result"
    }
   ],
   "source": [
    "config"
   ]
  },
  {
   "cell_type": "code",
   "execution_count": 44,
   "id": "29f34565-c39f-4d1d-bd21-2f73023c3144",
   "metadata": {},
   "outputs": [],
   "source": []
  },
  {
   "cell_type": "code",
   "execution_count": 17,
   "id": "a95cb3d1-f2be-4edd-aa54-b4fcd8c429b7",
   "metadata": {},
   "outputs": [
    {
     "data": {
      "text/plain": [
       "CompletedProcess(args='payu clone -B master -b ctrl /g/data/tm70/ml0072/COMMON/ensemble/test/1deg_jra55_ryf /g/data/tm70/ml0072/COMMON/ensemble/test/1deg_jra55_ryf_albicei_0.5', returncode=0, stdout='Cloned repository from /g/data/tm70/ml0072/COMMON/ensemble/test/1deg_jra55_ryf to directory: /g/data/tm70/ml0072/COMMON/ensemble/test/1deg_jra55_ryf_albicei_0.5\\nCreated and checked out new branch: ctrl\\nlaboratory path:  /scratch/tm70/ml0072/access-om2\\nbinary path:  /scratch/tm70/ml0072/access-om2/bin\\ninput path:  /scratch/tm70/ml0072/access-om2/input\\nwork path:  /scratch/tm70/ml0072/access-om2/work\\narchive path:  /scratch/tm70/ml0072/access-om2/archive\\nUpdated metadata. Experiment UUID: 7787c97c-833f-4ae4-bb3b-f03d2e71327c\\nAdded archive symlink to /scratch/tm70/ml0072/access-om2/archive/1deg_jra55_ryf_albicei_0.5-ctrl-7787c97c\\nTo change directory to control directory run:\\n  cd /g/data/tm70/ml0072/COMMON/ensemble/test/1deg_jra55_ryf_albicei_0.5\\n', stderr='')"
      ]
     },
     "execution_count": 17,
     "metadata": {},
     "output_type": "execute_result"
    }
   ],
   "source": [
    "test"
   ]
  },
  {
   "cell_type": "code",
   "execution_count": 18,
   "id": "3e34094a-724f-4628-8bdf-dadc695290bd",
   "metadata": {},
   "outputs": [
    {
     "data": {
      "text/plain": [
       "0"
      ]
     },
     "execution_count": 18,
     "metadata": {},
     "output_type": "execute_result"
    }
   ],
   "source": [
    "test.returncode"
   ]
  },
  {
   "cell_type": "code",
   "execution_count": 62,
   "id": "f0db917f-f84d-4e08-a160-50ca07a4312f",
   "metadata": {},
   "outputs": [
    {
     "data": {
      "text/plain": [
       "'/home/563/ml0072'"
      ]
     },
     "execution_count": 62,
     "metadata": {},
     "output_type": "execute_result"
    }
   ],
   "source": [
    "os.getcwd()"
   ]
  },
  {
   "cell_type": "code",
   "execution_count": 79,
   "id": "99b0ebc1-e5b1-4129-848e-005d77b24a10",
   "metadata": {},
   "outputs": [
    {
     "data": {
      "text/plain": [
       "'albicei'"
      ]
     },
     "execution_count": 79,
     "metadata": {},
     "output_type": "execute_result"
    }
   ],
   "source": [
    "turningangle = [fname, group, name] == ['ice/cice_in.nml', 'dynamics_nml', 'turning_angle']\n",
    "turningangle\n",
    "name"
   ]
  },
  {
   "cell_type": "code",
   "execution_count": null,
   "id": "f88c1352-2eb4-4423-a79b-9074fe991674",
   "metadata": {},
   "outputs": [],
   "source": [
    "payu clone -B master -b ctrl 1deg_jra55_ryf_test"
   ]
  },
  {
   "cell_type": "code",
   "execution_count": 106,
   "id": "081708de-9da3-4ad3-84a9-75bd14d20615",
   "metadata": {},
   "outputs": [
    {
     "name": "stdout",
     "output_type": "stream",
     "text": [
      "payu 1.0.19\n"
     ]
    }
   ],
   "source": [
    "!payu --version"
   ]
  },
  {
   "cell_type": "code",
   "execution_count": 110,
   "id": "e60b2a91-7821-4178-b731-8ef2928e932b",
   "metadata": {},
   "outputs": [
    {
     "data": {
      "text/plain": [
       "CompletedProcess(args='!payu clone -B master -b ctrl /g/data/tm70/ml0072/COMMON/ensemble/test/1deg_jra55_ryf /g/data/tm70/ml0072/COMMON/ensemble/test/1deg_jra55_ryf_albicei_0.5', returncode=127, stdout='', stderr='/bin/sh: !payu: command not found\\n')"
      ]
     },
     "execution_count": 110,
     "metadata": {},
     "output_type": "execute_result"
    }
   ],
   "source": [
    "test"
   ]
  },
  {
   "cell_type": "code",
   "execution_count": 112,
   "id": "89ed4b3f-390f-456c-9b27-338cab715880",
   "metadata": {},
   "outputs": [
    {
     "data": {
      "text/plain": [
       "CompletedProcess(args='payu clone -B master -b ctrl /g/data/tm70/ml0072/COMMON/ensemble/test/1deg_jra55_ryf /g/data/tm70/ml0072/COMMON/ensemble/test/1deg_jra55_ryf_albicei_0.5', returncode=2, stdout='', stderr=\"usage: payu [-h] [--version]\\n            {archive,build,collate,ghsetup,init,list,profile,push,run,setup,sweep,sync}\\n            ...\\npayu: error: argument {archive,build,collate,ghsetup,init,list,profile,push,run,setup,sweep,sync}: invalid choice: 'clone' (choose from 'archive', 'build', 'collate', 'ghsetup', 'init', 'list', 'profile', 'push', 'run', 'setup', 'sweep', 'sync')\\n\")"
      ]
     },
     "execution_count": 112,
     "metadata": {},
     "output_type": "execute_result"
    }
   ],
   "source": [
    "test"
   ]
  },
  {
   "cell_type": "code",
   "execution_count": 3,
   "id": "9021d28d-ba0f-4b14-bff8-959ec57e530e",
   "metadata": {},
   "outputs": [
    {
     "name": "stdout",
     "output_type": "stream",
     "text": [
      "usage: payu [-h] [--version]\n",
      "            {archive,build,collate,ghsetup,init,list,profile,push,run,setup,sweep,sync}\n",
      "            ...\n",
      "payu: error: argument {archive,build,collate,ghsetup,init,list,profile,push,run,setup,sweep,sync}: invalid choice: 'clone' (choose from 'archive', 'build', 'collate', 'ghsetup', 'init', 'list', 'profile', 'push', 'run', 'setup', 'sweep', 'sync')\n"
     ]
    }
   ],
   "source": [
    "!payu clone"
   ]
  },
  {
   "cell_type": "code",
   "execution_count": 6,
   "id": "080d91b7-8175-4096-b689-6fc58bdef548",
   "metadata": {},
   "outputs": [
    {
     "name": "stdout",
     "output_type": "stream",
     "text": [
      "Python 3.10.14\n"
     ]
    }
   ],
   "source": [
    "!python --version"
   ]
  },
  {
   "cell_type": "code",
   "execution_count": 5,
   "id": "89fd8fbc-4af1-40f1-b3e3-09e7be22eaa4",
   "metadata": {},
   "outputs": [
    {
     "name": "stdout",
     "output_type": "stream",
     "text": [
      "<module 'payu' from '/g/data/hh5/public/apps/miniconda3/envs/analysis3-unstable/lib/python3.10/site-packages/payu/__init__.py'>\n"
     ]
    }
   ],
   "source": [
    "!python -c 'import payu; print(payu)'"
   ]
  },
  {
   "cell_type": "code",
   "execution_count": 1,
   "id": "06134c38-6e65-494f-bc28-dc6bd692d902",
   "metadata": {},
   "outputs": [
    {
     "name": "stdout",
     "output_type": "stream",
     "text": [
      "/g/data/hh5/public/apps/miniconda3/envs/analysis3-24.01/bin/python\n"
     ]
    }
   ],
   "source": [
    "import sys\n",
    "print(sys.executable)"
   ]
  },
  {
   "cell_type": "code",
   "execution_count": 2,
   "id": "bb86bca8-367c-452a-8213-be1ec91b55eb",
   "metadata": {},
   "outputs": [
    {
     "name": "stdout",
     "output_type": "stream",
     "text": [
      "env: PATH=/g/data/vk83/modules/bin:$PATH\n"
     ]
    }
   ],
   "source": [
    "%env PATH=/g/data/vk83/modules/bin:$PATH"
   ]
  },
  {
   "cell_type": "code",
   "execution_count": 6,
   "id": "519e29b6-1098-4a97-a523-af43a0f767ff",
   "metadata": {},
   "outputs": [
    {
     "name": "stdout",
     "output_type": "stream",
     "text": [
      "PATH: /g/data/vk83/apps/payu/1.1.3/bin:/g/data/vk83/modules/bin:/g/data/vk83/modules/bin:$PATH\n"
     ]
    }
   ],
   "source": []
  },
  {
   "cell_type": "code",
   "execution_count": 8,
   "id": "9977da9c-731d-42cf-8109-a3a9be3f4858",
   "metadata": {},
   "outputs": [
    {
     "name": "stdout",
     "output_type": "stream",
     "text": [
      "usage: payu clone [-h] [--model MODEL_TYPE] [--config CONFIG_PATH]\n",
      "                  [--laboratory LAB_PATH] [-k] [--branch BRANCH]\n",
      "                  [--new-branch NEW_BRANCH_NAME] [--restart RESTART_PATH]\n",
      "                  [--parent-experiment PARENT_EXPERIMENT]\n",
      "                  repository local_directory\n",
      "payu clone: error: the following arguments are required: repository, local_directory\n"
     ]
    }
   ],
   "source": [
    "!payu clone"
   ]
  }
 ],
 "metadata": {
  "kernelspec": {
   "display_name": "Python [conda env:analysis3-unstable]",
   "language": "python",
   "name": "conda-env-analysis3-unstable-py"
  },
  "language_info": {
   "codemirror_mode": {
    "name": "ipython",
    "version": 3
   },
   "file_extension": ".py",
   "mimetype": "text/x-python",
   "name": "python",
   "nbconvert_exporter": "python",
   "pygments_lexer": "ipython3",
   "version": "3.10.14"
  }
 },
 "nbformat": 4,
 "nbformat_minor": 5
}
