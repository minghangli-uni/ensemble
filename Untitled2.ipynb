{
 "cells": [
  {
   "cell_type": "code",
   "execution_count": 1,
   "id": "239bf269-c461-4eeb-b750-0056d116fa6f",
   "metadata": {},
   "outputs": [],
   "source": [
    "%load_ext autoreload\n",
    "%autoreload 2"
   ]
  },
  {
   "cell_type": "code",
   "execution_count": 7,
   "id": "45cf3a62-6d27-4397-855d-553f8fdbc80a",
   "metadata": {},
   "outputs": [],
   "source": [
    "import yaml,f90nml,sys,os,git\n",
    "from pathlib import Path\n",
    "sys.path.append('/g/data/tm70/ml0072/COMMON/om3-utils/om3utils')"
   ]
  },
  {
   "cell_type": "code",
   "execution_count": 19,
   "id": "009424af-9735-46da-b901-fea911226608",
   "metadata": {},
   "outputs": [
    {
     "name": "stdout",
     "output_type": "stream",
     "text": [
      "/g/data/tm70/ml0072/MOM6-CICE6/PROFILING/3_2using_scripts/clx-run-o1344i96c96d48-fcpl-s-fm-F-fr-c_no_diags/MOM_input\n"
     ]
    }
   ],
   "source": [
    "mom6_folder = '/g/data/tm70/ml0072/MOM6-CICE6/PROFILING/3_2using_scripts/clx-run-o1344i96c96d48-fcpl-s-fm-F-fr-c_no_diags'\n",
    "mom6_text   = 'MOM_input'\n",
    "input_path = os.path.join(mom6_folder,mom6_text)\n",
    "print(input_path)\n",
    "from mom6_input import read_mom6_input,write_mom6_input,_patch_mom6_input_str,_mom6_input_str_to_nml_str,_nml_str_to_mom6_input\n",
    "\n",
    "with open(input_path,'r') as f:\n",
    "    str_tmp1 = f.read()\n",
    "output,patch = _patch_mom6_input_str(str_tmp1)\n"
   ]
  },
  {
   "cell_type": "code",
   "execution_count": 14,
   "id": "d993b6eb-a9e7-4218-bea4-dcda0240ccb3",
   "metadata": {},
   "outputs": [
    {
     "data": {
      "text/plain": [
       "{153: ('zstar',\n",
       "  '                                !  ZSTAR, Z* - stretched geopotential z*\\n'),\n",
       " 467: ('block', 'KPP%\\n'),\n",
       " 481: ('block', '%KPP\\n'),\n",
       " 488: ('block',\n",
       "  '                                ! parameters are contained in the CVMix_CONVECTION% parameter block.\\n'),\n",
       " 489: ('block', 'CVMix_CONVECTION%\\n'),\n",
       " 490: ('block', '%CVMix_CONVECTION\\n'),\n",
       " 533: ('block', 'CVMIX_DDIFF%\\n'),\n",
       " 534: ('block', '%CVMIX_DDIFF\\n')}"
      ]
     },
     "execution_count": 14,
     "metadata": {},
     "output_type": "execute_result"
    }
   ],
   "source": [
    "patch"
   ]
  },
  {
   "cell_type": "code",
   "execution_count": 12,
   "id": "02f6d7cf-e141-4c96-9717-42c66a6b5215",
   "metadata": {},
   "outputs": [
    {
     "data": {
      "text/plain": [
       "str"
      ]
     },
     "execution_count": 12,
     "metadata": {},
     "output_type": "execute_result"
    }
   ],
   "source": [
    "type(output)"
   ]
  },
  {
   "cell_type": "code",
   "execution_count": null,
   "id": "8eb0d792-58ea-4f40-a059-f194707f447c",
   "metadata": {},
   "outputs": [],
   "source": [
    "# def _mom6_input_str_to_nml_str(mom6_input_str: str) -> str:\n",
    "#     \"\"\"Convert the MOM6 parameter file to a conforming Fortran namelist.\n",
    "\n",
    "#     Args:\n",
    "#         mom6_input_str (str): Contents of the MOM6 parameter file.\n",
    "\n",
    "#     Returns:\n",
    "#         str: Fortran namelist.\n",
    "#     \"\"\"\n",
    "#     return \"&mom6\\n\" + mom6_input_str + \"\\n/\""
   ]
  },
  {
   "cell_type": "code",
   "execution_count": 18,
   "id": "0cc63aba-ead1-471e-9844-de3838fc8892",
   "metadata": {},
   "outputs": [],
   "source": [
    "nml_str = _mom6_input_str_to_nml_str(output)"
   ]
  },
  {
   "cell_type": "code",
   "execution_count": 20,
   "id": "10b96d0f-aed6-4700-b6bc-2cf007eee48c",
   "metadata": {},
   "outputs": [],
   "source": [
    "mom6_input = _nml_str_to_mom6_input(nml_str)"
   ]
  },
  {
   "cell_type": "code",
   "execution_count": 21,
   "id": "6510fa9f-12f8-48e1-8fde-947a8ff78fe7",
   "metadata": {},
   "outputs": [
    {
     "data": {
      "text/plain": [
       "{'diabatic_first': True,\n",
       " 'use_regridding': True,\n",
       " 'thicknessdiffuse': True,\n",
       " 'thicknessdiffuse_first': True,\n",
       " 'dt': 1350.0,\n",
       " 'dt_therm': 1350.0,\n",
       " 'hfreeze': 10.0,\n",
       " 'dtbt_reset_period': 0.0,\n",
       " 'frazil': True,\n",
       " 'bound_salinity': True,\n",
       " 'c_p': 3992.0,\n",
       " 'check_bad_surface_vals': True,\n",
       " 'bad_val_ssh_max': 50.0,\n",
       " 'bad_val_sss_max': 75.0,\n",
       " 'bad_val_sst_max': 55.0,\n",
       " 'bad_val_sst_min': -3.0,\n",
       " 'save_initial_conds': True,\n",
       " 'tripolar_n': True,\n",
       " 'niglobal': 1440,\n",
       " 'njglobal': 1080,\n",
       " 'inputdir': './input/',\n",
       " 'grid_config': 'mosaic',\n",
       " 'grid_file': 'ocean_hgrid.nc',\n",
       " 'topo_config': 'file',\n",
       " 'minimum_depth': 0.5,\n",
       " 'maximum_depth': 6000.0,\n",
       " 'channel_config': 'none',\n",
       " 'nk': 50,\n",
       " 'dtfreeze_dp': -7.75e-08,\n",
       " 'use_ideal_age_tracer': True,\n",
       " 'regridding_coordinate_mode': 'ZSTAR',\n",
       " 'ale_coordinate_config': 'FILE:ocean_vgrid.nc,interfaces=zeta',\n",
       " 'remapping_scheme': 'PPM_H4',\n",
       " 'init_layers_from_z_file': True,\n",
       " 'temp_salt_z_init_file': 'ocean_temp_salt.res.nc',\n",
       " 'z_init_file_ptemp_var': 'temp',\n",
       " 'z_init_ale_remapping': True,\n",
       " 'temp_salt_init_vertical_remap_only': True,\n",
       " 'diag_coord_def_z': 'FILE:ocean_vgrid.nc,interfaces=zeta',\n",
       " 'use_meke': True,\n",
       " 'meke_gmcoeff': 0.0,\n",
       " 'meke_geometric': True,\n",
       " 'meke_equilibrium_alt': True,\n",
       " 'meke_equilibrium_restoring': True,\n",
       " 'meke_restoring_timescale': 10000000.0,\n",
       " 'meke_visc_drag': False,\n",
       " 'meke_khth_fac': 1.0,\n",
       " 'meke_khtr_fac': 1.0,\n",
       " 'meke_khmeke_fac': 0.5,\n",
       " 'meke_min_lscale': True,\n",
       " 'meke_viscosity_coeff_ku': 0.2,\n",
       " 'meke_alpha_deform': 1.0,\n",
       " 'meke_alpha_rhines': 1.0,\n",
       " 'meke_alpha_eady': 1.0,\n",
       " 'meke_alpha_frict': 1.0,\n",
       " 'meke_alpha_grid': 1.0,\n",
       " 'meke_advection_factor': 1.0,\n",
       " 'use_variable_mixing': True,\n",
       " 'resoln_scaled_kh': True,\n",
       " 'resoln_scaled_khth': True,\n",
       " 'khth_use_ebt_struct': True,\n",
       " 'khth_slope_cff': 0.01,\n",
       " 'use_stored_slopes': True,\n",
       " 'kh_res_scale_coef': 0.4,\n",
       " 'channel_drag': True,\n",
       " 'hbbl': 10.0,\n",
       " 'drag_bg_vel': 0.1,\n",
       " 'bbl_thick_min': 0.1,\n",
       " 'kv': 0.0001,\n",
       " 'khth_use_fgnv_streamfunction': True,\n",
       " 'fgnv_c_min': 0.01,\n",
       " 'tides': True,\n",
       " 'eta_tolerance': 1e-06,\n",
       " 'velocity_tolerance': 0.0001,\n",
       " 'bound_coriolis': True,\n",
       " 'tide_m2': True,\n",
       " 'tide_sal_scalar_value': 0.094,\n",
       " 'mass_weight_in_pressure_gradient': True,\n",
       " 'laplacian': True,\n",
       " 'ah': 1000000000000.0,\n",
       " 'leith_ah': True,\n",
       " 'leith_bi_const': 128.0,\n",
       " 'hmix_fixed': 0.5,\n",
       " 'maxvel': 6.0,\n",
       " 'cfl_truncate_ramp_time': 7200.0,\n",
       " 'u_trunc_file': 'U_velocity_truncations',\n",
       " 'v_trunc_file': 'V_velocity_truncations',\n",
       " 'bound_bt_correction': True,\n",
       " 'bt_project_velocity': True,\n",
       " 'bebt': 0.2,\n",
       " 'dtbt': -0.95,\n",
       " 'mixedlayer_restrat': True,\n",
       " 'fox_kemper_ml_restrat_coef': 1.0,\n",
       " 'mle_front_length': 1000.0,\n",
       " 'mle_mld_decay_time': 345600.0,\n",
       " 'use_legacy_diabatic_driver': False,\n",
       " 'use_kpp': True,\n",
       " 'n_smooth': 3,\n",
       " 'match_technique': 'MatchGradient',\n",
       " 'kpp_is_additive': False,\n",
       " 'use_cvmix_convection': True,\n",
       " 'bbl_mixing_as_max': False,\n",
       " 'use_lotw_bbl_diffusivity': True,\n",
       " 'kd': 2e-05,\n",
       " 'kd_min': 2e-06,\n",
       " 'horiz_varying_background': True,\n",
       " 'prandtl_bkgnd': 5.0,\n",
       " 'kd_max': 0.1,\n",
       " 'use_lmd94': True,\n",
       " 'n_smooth_ri': 1,\n",
       " 'use_cvmix_ddiff': True,\n",
       " 'pressure_dependent_frazil': True,\n",
       " 'pen_sw_scale': 15.0,\n",
       " 'pen_sw_frac': 0.42,\n",
       " 'tracer_advection_scheme': 'PPM:H3',\n",
       " 'khtr_min': 50.0,\n",
       " 'check_diffusive_cfl': True,\n",
       " 'max_tr_diffusion_cfl': 2.0,\n",
       " 'use_neutral_diffusion': True,\n",
       " 'ndiff_interior_only': True,\n",
       " 'use_horizontal_boundary_diffusion': True,\n",
       " 'hbd_linear_transition': True,\n",
       " 'ocean_surface_stagger': 'A',\n",
       " 'restore_salinity': True,\n",
       " 'latent_heat_fusion': 333700.0,\n",
       " 'latent_heat_vaporization': 2501000.0,\n",
       " 'adjust_net_fresh_water_to_zero': True,\n",
       " 'enthalpy_from_coupler': True,\n",
       " 'fluxconst': 0.11,\n",
       " 'salt_restore_file': 'salt_sfc_restore.nc',\n",
       " 'srestore_as_sflux': True,\n",
       " 'max_delta_srestore': 0.5,\n",
       " 'gust_const': 0.02,\n",
       " 'fatal_unused_params': True,\n",
       " 'auto_masktable': False}"
      ]
     },
     "execution_count": 21,
     "metadata": {},
     "output_type": "execute_result"
    }
   ],
   "source": [
    "class test_upper(dict):\n",
    "    def __init__(self,file_name:str = None):\n",
    "        self.mom6_input = file_name\n",
    "\n",
    "\n",
    "\n",
    "    \n",
    "    "
   ]
  }
 ],
 "metadata": {
  "kernelspec": {
   "display_name": "Python [conda env:analysis3-unstable]",
   "language": "python",
   "name": "conda-env-analysis3-unstable-py"
  },
  "language_info": {
   "codemirror_mode": {
    "name": "ipython",
    "version": 3
   },
   "file_extension": ".py",
   "mimetype": "text/x-python",
   "name": "python",
   "nbconvert_exporter": "python",
   "pygments_lexer": "ipython3",
   "version": "3.10.14"
  }
 },
 "nbformat": 4,
 "nbformat_minor": 5
}
